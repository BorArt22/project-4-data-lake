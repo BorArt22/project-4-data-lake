{
 "cells": [
  {
   "cell_type": "markdown",
   "id": "9e3cb80f-81f4-48d4-89f8-29ecced1a9b3",
   "metadata": {},
   "source": [
    "# Test of Sparkify song play logs: Datalake"
   ]
  },
  {
   "cell_type": "markdown",
   "id": "882b00c1-af53-4e52-b62b-0ae6b1eaad3d",
   "metadata": {},
   "source": [
    "## Create spark connection"
   ]
  },
  {
   "cell_type": "code",
   "execution_count": 1,
   "id": "90a7ff30-c1dd-4275-a1b1-18e213532dad",
   "metadata": {
    "execution": {
     "iopub.execute_input": "2022-08-22T13:29:25.640774Z",
     "iopub.status.busy": "2022-08-22T13:29:25.640413Z",
     "iopub.status.idle": "2022-08-22T13:30:08.575848Z",
     "shell.execute_reply": "2022-08-22T13:30:08.574360Z",
     "shell.execute_reply.started": "2022-08-22T13:29:25.640734Z"
    },
    "tags": []
   },
   "outputs": [
    {
     "data": {
      "application/vnd.jupyter.widget-view+json": {
       "model_id": "1d89701b15734c5fa5ff831c17e3c079",
       "version_major": 2,
       "version_minor": 0
      },
      "text/plain": [
       "VBox()"
      ]
     },
     "metadata": {},
     "output_type": "display_data"
    },
    {
     "name": "stdout",
     "output_type": "stream",
     "text": [
      "Starting Spark application\n"
     ]
    },
    {
     "data": {
      "text/html": [
       "<table>\n",
       "<tr><th>ID</th><th>YARN Application ID</th><th>Kind</th><th>State</th><th>Spark UI</th><th>Driver log</th><th>User</th><th>Current session?</th></tr><tr><td>2</td><td>application_1661163900173_0006</td><td>pyspark</td><td>idle</td><td><a target=\"_blank\" href=\"http://ip-172-31-84-78.ec2.internal:20888/proxy/application_1661163900173_0006/\" class=\"emr-proxy-link\" emr-resource=\"j-2II929P30AF0Y\n",
       "\" application-id=\"application_1661163900173_0006\">Link</a></td><td><a target=\"_blank\" href=\"http://ip-172-31-95-112.ec2.internal:8042/node/containerlogs/container_1661163900173_0006_01_000001/livy\" >Link</a></td><td>None</td><td>✔</td></tr></table>"
      ],
      "text/plain": [
       "<IPython.core.display.HTML object>"
      ]
     },
     "metadata": {},
     "output_type": "display_data"
    },
    {
     "data": {
      "application/vnd.jupyter.widget-view+json": {
       "model_id": "",
       "version_major": 2,
       "version_minor": 0
      },
      "text/plain": [
       "FloatProgress(value=0.0, bar_style='info', description='Progress:', layout=Layout(height='25px', width='50%'),…"
      ]
     },
     "metadata": {},
     "output_type": "display_data"
    },
    {
     "name": "stdout",
     "output_type": "stream",
     "text": [
      "SparkSession available as 'spark'.\n"
     ]
    },
    {
     "data": {
      "application/vnd.jupyter.widget-view+json": {
       "model_id": "",
       "version_major": 2,
       "version_minor": 0
      },
      "text/plain": [
       "FloatProgress(value=0.0, bar_style='info', description='Progress:', layout=Layout(height='25px', width='50%'),…"
      ]
     },
     "metadata": {},
     "output_type": "display_data"
    }
   ],
   "source": [
    "import configparser\n",
    "import os\n",
    "from pyspark.sql import SparkSession"
   ]
  },
  {
   "cell_type": "code",
   "execution_count": 2,
   "id": "9a67fcbc-e9f1-4855-96ee-ea837a5db041",
   "metadata": {
    "execution": {
     "iopub.execute_input": "2022-08-22T13:30:08.578980Z",
     "iopub.status.busy": "2022-08-22T13:30:08.578194Z",
     "iopub.status.idle": "2022-08-22T13:30:08.703779Z",
     "shell.execute_reply": "2022-08-22T13:30:08.702417Z",
     "shell.execute_reply.started": "2022-08-22T13:30:08.578921Z"
    },
    "tags": []
   },
   "outputs": [
    {
     "data": {
      "application/vnd.jupyter.widget-view+json": {
       "model_id": "45ea55f9fb7b4215be4e117cbde9e102",
       "version_major": 2,
       "version_minor": 0
      },
      "text/plain": [
       "VBox()"
      ]
     },
     "metadata": {},
     "output_type": "display_data"
    },
    {
     "data": {
      "application/vnd.jupyter.widget-view+json": {
       "model_id": "",
       "version_major": 2,
       "version_minor": 0
      },
      "text/plain": [
       "FloatProgress(value=0.0, bar_style='info', description='Progress:', layout=Layout(height='25px', width='50%'),…"
      ]
     },
     "metadata": {},
     "output_type": "display_data"
    }
   ],
   "source": [
    "def create_spark_session():\n",
    "    '''\n",
    "    create spark session\n",
    "    '''    \n",
    "    spark = SparkSession \\\n",
    "        .builder \\\n",
    "        .config(\"spark.jars.packages\", \"org.apache.hadoop:hadoop-aws:2.7.0\") \\\n",
    "        .getOrCreate()\n",
    "    return spark"
   ]
  },
  {
   "cell_type": "code",
   "execution_count": 3,
   "id": "7e626512-877d-4c9f-ba5b-384f9fda03a5",
   "metadata": {
    "execution": {
     "iopub.execute_input": "2022-08-22T13:30:08.707539Z",
     "iopub.status.busy": "2022-08-22T13:30:08.707046Z",
     "iopub.status.idle": "2022-08-22T13:30:11.391494Z",
     "shell.execute_reply": "2022-08-22T13:30:11.389883Z",
     "shell.execute_reply.started": "2022-08-22T13:30:08.707481Z"
    },
    "tags": []
   },
   "outputs": [
    {
     "data": {
      "application/vnd.jupyter.widget-view+json": {
       "model_id": "a8aa851b531c4581a4a5fcfaa593e89f",
       "version_major": 2,
       "version_minor": 0
      },
      "text/plain": [
       "VBox()"
      ]
     },
     "metadata": {},
     "output_type": "display_data"
    },
    {
     "data": {
      "application/vnd.jupyter.widget-view+json": {
       "model_id": "",
       "version_major": 2,
       "version_minor": 0
      },
      "text/plain": [
       "FloatProgress(value=0.0, bar_style='info', description='Progress:', layout=Layout(height='25px', width='50%'),…"
      ]
     },
     "metadata": {},
     "output_type": "display_data"
    }
   ],
   "source": [
    "spark = create_spark_session()"
   ]
  },
  {
   "cell_type": "code",
   "execution_count": 4,
   "id": "0789f844-80fb-4f61-928e-eb41d9e19367",
   "metadata": {
    "execution": {
     "iopub.execute_input": "2022-08-22T13:30:11.400111Z",
     "iopub.status.busy": "2022-08-22T13:30:11.397145Z",
     "iopub.status.idle": "2022-08-22T13:30:11.507362Z",
     "shell.execute_reply": "2022-08-22T13:30:11.506297Z",
     "shell.execute_reply.started": "2022-08-22T13:30:11.400015Z"
    },
    "tags": []
   },
   "outputs": [
    {
     "data": {
      "application/vnd.jupyter.widget-view+json": {
       "model_id": "40ece82f23054950a2eb6231b2924cb6",
       "version_major": 2,
       "version_minor": 0
      },
      "text/plain": [
       "VBox()"
      ]
     },
     "metadata": {},
     "output_type": "display_data"
    },
    {
     "data": {
      "application/vnd.jupyter.widget-view+json": {
       "model_id": "",
       "version_major": 2,
       "version_minor": 0
      },
      "text/plain": [
       "FloatProgress(value=0.0, bar_style='info', description='Progress:', layout=Layout(height='25px', width='50%'),…"
      ]
     },
     "metadata": {},
     "output_type": "display_data"
    }
   ],
   "source": [
    "input_data = \"s3a://udacity-dend/\"\n",
    "output_data = \"s3://udacity-datalake-sparkify-bav/\""
   ]
  },
  {
   "cell_type": "markdown",
   "id": "bfbaa7f8-56c8-4a4b-86df-1e823b09b86f",
   "metadata": {},
   "source": [
    "## Check data filling in analytic tables"
   ]
  },
  {
   "cell_type": "markdown",
   "id": "543066a4-06f0-4ca7-8fc8-398da6fe8d84",
   "metadata": {},
   "source": [
    "### Test songplays_table"
   ]
  },
  {
   "cell_type": "code",
   "execution_count": 5,
   "id": "0e899e29-0afe-42c6-9568-bf284747cd65",
   "metadata": {
    "execution": {
     "iopub.execute_input": "2022-08-22T13:30:11.509037Z",
     "iopub.status.busy": "2022-08-22T13:30:11.508732Z",
     "iopub.status.idle": "2022-08-22T13:30:20.895584Z",
     "shell.execute_reply": "2022-08-22T13:30:20.894569Z",
     "shell.execute_reply.started": "2022-08-22T13:30:11.509002Z"
    },
    "tags": []
   },
   "outputs": [
    {
     "data": {
      "application/vnd.jupyter.widget-view+json": {
       "model_id": "16b87087d35b411d8513d52591582f20",
       "version_major": 2,
       "version_minor": 0
      },
      "text/plain": [
       "VBox()"
      ]
     },
     "metadata": {},
     "output_type": "display_data"
    },
    {
     "data": {
      "application/vnd.jupyter.widget-view+json": {
       "model_id": "",
       "version_major": 2,
       "version_minor": 0
      },
      "text/plain": [
       "FloatProgress(value=0.0, bar_style='info', description='Progress:', layout=Layout(height='25px', width='50%'),…"
      ]
     },
     "metadata": {},
     "output_type": "display_data"
    }
   ],
   "source": [
    "songplays = spark.read.parquet(output_data+\"songplays\")"
   ]
  },
  {
   "cell_type": "code",
   "execution_count": 6,
   "id": "c6c7dcf2-a9e3-42e8-8820-77ab4111f41b",
   "metadata": {
    "execution": {
     "iopub.execute_input": "2022-08-22T13:30:20.897764Z",
     "iopub.status.busy": "2022-08-22T13:30:20.897318Z",
     "iopub.status.idle": "2022-08-22T13:30:28.269871Z",
     "shell.execute_reply": "2022-08-22T13:30:28.268720Z",
     "shell.execute_reply.started": "2022-08-22T13:30:20.897706Z"
    },
    "tags": []
   },
   "outputs": [
    {
     "data": {
      "application/vnd.jupyter.widget-view+json": {
       "model_id": "4034aa820d2d49e48ff9c6f742c0c336",
       "version_major": 2,
       "version_minor": 0
      },
      "text/plain": [
       "VBox()"
      ]
     },
     "metadata": {},
     "output_type": "display_data"
    },
    {
     "data": {
      "application/vnd.jupyter.widget-view+json": {
       "model_id": "",
       "version_major": 2,
       "version_minor": 0
      },
      "text/plain": [
       "FloatProgress(value=0.0, bar_style='info', description='Progress:', layout=Layout(height='25px', width='50%'),…"
      ]
     },
     "metadata": {},
     "output_type": "display_data"
    },
    {
     "name": "stdout",
     "output_type": "stream",
     "text": [
      "root\n",
      " |-- start_time: string (nullable = true)\n",
      " |-- user_id: string (nullable = true)\n",
      " |-- level: string (nullable = true)\n",
      " |-- song_id: string (nullable = true)\n",
      " |-- artist_id: string (nullable = true)\n",
      " |-- session_id: long (nullable = true)\n",
      " |-- location: string (nullable = true)\n",
      " |-- user_agent: string (nullable = true)\n",
      " |-- songplay_id: integer (nullable = true)\n",
      " |-- year: integer (nullable = true)\n",
      " |-- month: integer (nullable = true)\n",
      "\n",
      "+--------------------+-------+-----+------------------+------------------+----------+--------------------+--------------------+-----------+----+-----+\n",
      "|          start_time|user_id|level|           song_id|         artist_id|session_id|            location|          user_agent|songplay_id|year|month|\n",
      "+--------------------+-------+-----+------------------+------------------+----------+--------------------+--------------------+-----------+----+-----+\n",
      "|2018-11-01 21:01:...|      8| free|              null|              null|       139|Phoenix-Mesa-Scot...|\"Mozilla/5.0 (Win...|          1|2018|   11|\n",
      "|2018-11-01 21:05:...|      8| free|              null|              null|       139|Phoenix-Mesa-Scot...|\"Mozilla/5.0 (Win...|          2|2018|   11|\n",
      "|2018-11-01 21:08:...|      8| free|              null|              null|       139|Phoenix-Mesa-Scot...|\"Mozilla/5.0 (Win...|          3|2018|   11|\n",
      "|2018-11-01 21:11:...|      8| free|SOEIQUY12AF72A086A|ARHUC691187B9AD27F|       139|Phoenix-Mesa-Scot...|\"Mozilla/5.0 (Win...|          4|2018|   11|\n",
      "|2018-11-01 21:17:...|      8| free|              null|              null|       139|Phoenix-Mesa-Scot...|\"Mozilla/5.0 (Win...|          5|2018|   11|\n",
      "+--------------------+-------+-----+------------------+------------------+----------+--------------------+--------------------+-----------+----+-----+\n",
      "only showing top 5 rows"
     ]
    }
   ],
   "source": [
    "songplays.printSchema()\n",
    "songplays.show(5)"
   ]
  },
  {
   "cell_type": "code",
   "execution_count": 7,
   "id": "1f0aab95-7f54-4b71-81d9-1c6880e0f22e",
   "metadata": {
    "execution": {
     "iopub.execute_input": "2022-08-22T13:30:28.271785Z",
     "iopub.status.busy": "2022-08-22T13:30:28.271442Z",
     "iopub.status.idle": "2022-08-22T13:30:29.617814Z",
     "shell.execute_reply": "2022-08-22T13:30:29.616507Z",
     "shell.execute_reply.started": "2022-08-22T13:30:28.271732Z"
    },
    "tags": []
   },
   "outputs": [
    {
     "data": {
      "application/vnd.jupyter.widget-view+json": {
       "model_id": "eb185712f7bc429eb0c69a8ff3fcd3d1",
       "version_major": 2,
       "version_minor": 0
      },
      "text/plain": [
       "VBox()"
      ]
     },
     "metadata": {},
     "output_type": "display_data"
    },
    {
     "data": {
      "application/vnd.jupyter.widget-view+json": {
       "model_id": "",
       "version_major": 2,
       "version_minor": 0
      },
      "text/plain": [
       "FloatProgress(value=0.0, bar_style='info', description='Progress:', layout=Layout(height='25px', width='50%'),…"
      ]
     },
     "metadata": {},
     "output_type": "display_data"
    },
    {
     "name": "stdout",
     "output_type": "stream",
     "text": [
      "6820"
     ]
    }
   ],
   "source": [
    "songplays.count()"
   ]
  },
  {
   "cell_type": "code",
   "execution_count": 8,
   "id": "e22d721e-9df6-4f1d-b191-5093996294f2",
   "metadata": {
    "execution": {
     "iopub.execute_input": "2022-08-22T13:30:29.622635Z",
     "iopub.status.busy": "2022-08-22T13:30:29.622366Z",
     "iopub.status.idle": "2022-08-22T13:30:32.554160Z",
     "shell.execute_reply": "2022-08-22T13:30:32.552738Z",
     "shell.execute_reply.started": "2022-08-22T13:30:29.622600Z"
    },
    "tags": []
   },
   "outputs": [
    {
     "data": {
      "application/vnd.jupyter.widget-view+json": {
       "model_id": "a5c3c55d3dcb4e2aa90aece66347ddf3",
       "version_major": 2,
       "version_minor": 0
      },
      "text/plain": [
       "VBox()"
      ]
     },
     "metadata": {},
     "output_type": "display_data"
    },
    {
     "data": {
      "application/vnd.jupyter.widget-view+json": {
       "model_id": "",
       "version_major": 2,
       "version_minor": 0
      },
      "text/plain": [
       "FloatProgress(value=0.0, bar_style='info', description='Progress:', layout=Layout(height='25px', width='50%'),…"
      ]
     },
     "metadata": {},
     "output_type": "display_data"
    },
    {
     "name": "stdout",
     "output_type": "stream",
     "text": [
      "333"
     ]
    }
   ],
   "source": [
    "songplays.filter(songplays.artist_id.isNotNull()).count()"
   ]
  },
  {
   "cell_type": "markdown",
   "id": "c47b99d9-7dd9-47c8-9c66-2a0049930eba",
   "metadata": {},
   "source": [
    "### Test users table"
   ]
  },
  {
   "cell_type": "code",
   "execution_count": 9,
   "id": "202b7006-299b-4341-bfa3-7d1d5223ed4e",
   "metadata": {
    "execution": {
     "iopub.execute_input": "2022-08-22T13:30:32.556591Z",
     "iopub.status.busy": "2022-08-22T13:30:32.556330Z",
     "iopub.status.idle": "2022-08-22T13:30:33.894927Z",
     "shell.execute_reply": "2022-08-22T13:30:33.893478Z",
     "shell.execute_reply.started": "2022-08-22T13:30:32.556551Z"
    },
    "tags": []
   },
   "outputs": [
    {
     "data": {
      "application/vnd.jupyter.widget-view+json": {
       "model_id": "2d6d8b1e44ce4675827a7d8131e68d83",
       "version_major": 2,
       "version_minor": 0
      },
      "text/plain": [
       "VBox()"
      ]
     },
     "metadata": {},
     "output_type": "display_data"
    },
    {
     "data": {
      "application/vnd.jupyter.widget-view+json": {
       "model_id": "",
       "version_major": 2,
       "version_minor": 0
      },
      "text/plain": [
       "FloatProgress(value=0.0, bar_style='info', description='Progress:', layout=Layout(height='25px', width='50%'),…"
      ]
     },
     "metadata": {},
     "output_type": "display_data"
    }
   ],
   "source": [
    "users = spark.read.option(\"mergeSchema\", \"true\").parquet(output_data+\"users/users_table.parquet\")"
   ]
  },
  {
   "cell_type": "code",
   "execution_count": 10,
   "id": "bd678c3d-5b3c-4999-a93d-55d7d6df3828",
   "metadata": {
    "execution": {
     "iopub.execute_input": "2022-08-22T13:30:33.897822Z",
     "iopub.status.busy": "2022-08-22T13:30:33.897078Z",
     "iopub.status.idle": "2022-08-22T13:30:34.735142Z",
     "shell.execute_reply": "2022-08-22T13:30:34.734032Z",
     "shell.execute_reply.started": "2022-08-22T13:30:33.897768Z"
    },
    "tags": []
   },
   "outputs": [
    {
     "data": {
      "application/vnd.jupyter.widget-view+json": {
       "model_id": "327ee3b69dbe4efd972ab115cabbb806",
       "version_major": 2,
       "version_minor": 0
      },
      "text/plain": [
       "VBox()"
      ]
     },
     "metadata": {},
     "output_type": "display_data"
    },
    {
     "data": {
      "application/vnd.jupyter.widget-view+json": {
       "model_id": "",
       "version_major": 2,
       "version_minor": 0
      },
      "text/plain": [
       "FloatProgress(value=0.0, bar_style='info', description='Progress:', layout=Layout(height='25px', width='50%'),…"
      ]
     },
     "metadata": {},
     "output_type": "display_data"
    },
    {
     "name": "stdout",
     "output_type": "stream",
     "text": [
      "root\n",
      " |-- user_id: string (nullable = true)\n",
      " |-- first_name: string (nullable = true)\n",
      " |-- last_name: string (nullable = true)\n",
      " |-- gender: string (nullable = true)\n",
      " |-- level: string (nullable = true)\n",
      "\n",
      "+-------+----------+---------+------+-----+\n",
      "|user_id|first_name|last_name|gender|level|\n",
      "+-------+----------+---------+------+-----+\n",
      "|     22|      Sean|   Wilson|     F| free|\n",
      "|     28|  Brantley|     West|     M| free|\n",
      "|      3|     Isaac|   Valdez|     M| free|\n",
      "|     30|     Avery|  Watkins|     F| paid|\n",
      "|     34|    Evelin|    Ayala|     F| free|\n",
      "+-------+----------+---------+------+-----+\n",
      "only showing top 5 rows"
     ]
    }
   ],
   "source": [
    "users.printSchema()\n",
    "users.show(5)"
   ]
  },
  {
   "cell_type": "code",
   "execution_count": 11,
   "id": "91433534-7eb5-4235-a609-8522687ee6fd",
   "metadata": {
    "execution": {
     "iopub.execute_input": "2022-08-22T13:30:34.736876Z",
     "iopub.status.busy": "2022-08-22T13:30:34.736614Z",
     "iopub.status.idle": "2022-08-22T13:30:36.083934Z",
     "shell.execute_reply": "2022-08-22T13:30:36.082564Z",
     "shell.execute_reply.started": "2022-08-22T13:30:34.736841Z"
    },
    "tags": []
   },
   "outputs": [
    {
     "data": {
      "application/vnd.jupyter.widget-view+json": {
       "model_id": "0983499d6c95418c920af40f40d2a944",
       "version_major": 2,
       "version_minor": 0
      },
      "text/plain": [
       "VBox()"
      ]
     },
     "metadata": {},
     "output_type": "display_data"
    },
    {
     "data": {
      "application/vnd.jupyter.widget-view+json": {
       "model_id": "",
       "version_major": 2,
       "version_minor": 0
      },
      "text/plain": [
       "FloatProgress(value=0.0, bar_style='info', description='Progress:', layout=Layout(height='25px', width='50%'),…"
      ]
     },
     "metadata": {},
     "output_type": "display_data"
    },
    {
     "name": "stdout",
     "output_type": "stream",
     "text": [
      "96"
     ]
    }
   ],
   "source": [
    "users.count()"
   ]
  },
  {
   "cell_type": "markdown",
   "id": "8cac2a6e-1dab-420f-b42e-a01130598f7f",
   "metadata": {},
   "source": [
    "### Test time table"
   ]
  },
  {
   "cell_type": "code",
   "execution_count": 12,
   "id": "5e100edb-c586-4f0f-b427-903dbd6426bd",
   "metadata": {
    "execution": {
     "iopub.execute_input": "2022-08-22T13:30:36.086308Z",
     "iopub.status.busy": "2022-08-22T13:30:36.085842Z",
     "iopub.status.idle": "2022-08-22T13:30:36.973268Z",
     "shell.execute_reply": "2022-08-22T13:30:36.970793Z",
     "shell.execute_reply.started": "2022-08-22T13:30:36.086222Z"
    },
    "tags": []
   },
   "outputs": [
    {
     "data": {
      "application/vnd.jupyter.widget-view+json": {
       "model_id": "400df4c36f0d46a79035d857e23c793d",
       "version_major": 2,
       "version_minor": 0
      },
      "text/plain": [
       "VBox()"
      ]
     },
     "metadata": {},
     "output_type": "display_data"
    },
    {
     "data": {
      "application/vnd.jupyter.widget-view+json": {
       "model_id": "",
       "version_major": 2,
       "version_minor": 0
      },
      "text/plain": [
       "FloatProgress(value=0.0, bar_style='info', description='Progress:', layout=Layout(height='25px', width='50%'),…"
      ]
     },
     "metadata": {},
     "output_type": "display_data"
    }
   ],
   "source": [
    "time = spark.read.parquet(output_data+\"time\")"
   ]
  },
  {
   "cell_type": "code",
   "execution_count": 13,
   "id": "a4d44487-1a10-4efb-bbf5-b1540c756c00",
   "metadata": {
    "execution": {
     "iopub.execute_input": "2022-08-22T13:30:36.977889Z",
     "iopub.status.busy": "2022-08-22T13:30:36.977132Z",
     "iopub.status.idle": "2022-08-22T13:30:37.963910Z",
     "shell.execute_reply": "2022-08-22T13:30:37.962678Z",
     "shell.execute_reply.started": "2022-08-22T13:30:36.977830Z"
    },
    "tags": []
   },
   "outputs": [
    {
     "data": {
      "application/vnd.jupyter.widget-view+json": {
       "model_id": "4d860e705ef84683ba9db6f0d4feba09",
       "version_major": 2,
       "version_minor": 0
      },
      "text/plain": [
       "VBox()"
      ]
     },
     "metadata": {},
     "output_type": "display_data"
    },
    {
     "data": {
      "application/vnd.jupyter.widget-view+json": {
       "model_id": "",
       "version_major": 2,
       "version_minor": 0
      },
      "text/plain": [
       "FloatProgress(value=0.0, bar_style='info', description='Progress:', layout=Layout(height='25px', width='50%'),…"
      ]
     },
     "metadata": {},
     "output_type": "display_data"
    },
    {
     "name": "stdout",
     "output_type": "stream",
     "text": [
      "root\n",
      " |-- start_time: string (nullable = true)\n",
      " |-- hour: integer (nullable = true)\n",
      " |-- day: integer (nullable = true)\n",
      " |-- week: integer (nullable = true)\n",
      " |-- weekday: string (nullable = true)\n",
      " |-- year: integer (nullable = true)\n",
      " |-- month: integer (nullable = true)\n",
      "\n",
      "+--------------------+----+---+----+-------+----+-----+\n",
      "|          start_time|hour|day|week|weekday|year|month|\n",
      "+--------------------+----+---+----+-------+----+-----+\n",
      "|2018-11-15 14:11:...|  14| 15|  46|      4|2018|   11|\n",
      "|2018-11-15 19:23:...|  19| 15|  46|      4|2018|   11|\n",
      "|2018-11-15 12:02:...|  12| 15|  46|      4|2018|   11|\n",
      "|2018-11-15 21:21:...|  21| 15|  46|      4|2018|   11|\n",
      "|2018-11-15 10:37:...|  10| 15|  46|      4|2018|   11|\n",
      "+--------------------+----+---+----+-------+----+-----+\n",
      "only showing top 5 rows"
     ]
    }
   ],
   "source": [
    "time.printSchema()\n",
    "time.show(5)"
   ]
  },
  {
   "cell_type": "code",
   "execution_count": 14,
   "id": "7f18e10b-a5c0-4a3b-b218-c4208a56996f",
   "metadata": {
    "execution": {
     "iopub.execute_input": "2022-08-22T13:30:37.965624Z",
     "iopub.status.busy": "2022-08-22T13:30:37.965349Z",
     "iopub.status.idle": "2022-08-22T13:30:38.787636Z",
     "shell.execute_reply": "2022-08-22T13:30:38.786213Z",
     "shell.execute_reply.started": "2022-08-22T13:30:37.965587Z"
    },
    "tags": []
   },
   "outputs": [
    {
     "data": {
      "application/vnd.jupyter.widget-view+json": {
       "model_id": "990ecbbc6d544c9b95f0e7ff01084697",
       "version_major": 2,
       "version_minor": 0
      },
      "text/plain": [
       "VBox()"
      ]
     },
     "metadata": {},
     "output_type": "display_data"
    },
    {
     "data": {
      "application/vnd.jupyter.widget-view+json": {
       "model_id": "",
       "version_major": 2,
       "version_minor": 0
      },
      "text/plain": [
       "FloatProgress(value=0.0, bar_style='info', description='Progress:', layout=Layout(height='25px', width='50%'),…"
      ]
     },
     "metadata": {},
     "output_type": "display_data"
    },
    {
     "name": "stdout",
     "output_type": "stream",
     "text": [
      "6813"
     ]
    }
   ],
   "source": [
    "time.count()"
   ]
  },
  {
   "cell_type": "markdown",
   "id": "9669daef-5d66-4b26-af11-a23f15725262",
   "metadata": {},
   "source": [
    "### Test songs table"
   ]
  },
  {
   "cell_type": "code",
   "execution_count": 15,
   "id": "630545a5-ff42-4035-9c7f-63ba06e57e42",
   "metadata": {
    "execution": {
     "iopub.execute_input": "2022-08-22T13:30:38.790186Z",
     "iopub.status.busy": "2022-08-22T13:30:38.789251Z",
     "iopub.status.idle": "2022-08-22T13:32:52.813613Z",
     "shell.execute_reply": "2022-08-22T13:32:52.812614Z",
     "shell.execute_reply.started": "2022-08-22T13:30:38.790128Z"
    },
    "tags": []
   },
   "outputs": [
    {
     "data": {
      "application/vnd.jupyter.widget-view+json": {
       "model_id": "fc01e0ef764f4e8fa5968262e9914d0e",
       "version_major": 2,
       "version_minor": 0
      },
      "text/plain": [
       "VBox()"
      ]
     },
     "metadata": {},
     "output_type": "display_data"
    },
    {
     "data": {
      "application/vnd.jupyter.widget-view+json": {
       "model_id": "",
       "version_major": 2,
       "version_minor": 0
      },
      "text/plain": [
       "FloatProgress(value=0.0, bar_style='info', description='Progress:', layout=Layout(height='25px', width='50%'),…"
      ]
     },
     "metadata": {},
     "output_type": "display_data"
    }
   ],
   "source": [
    "songs = spark.read.parquet(output_data+\"songs\")"
   ]
  },
  {
   "cell_type": "code",
   "execution_count": 16,
   "id": "b6bf2461-4af2-43d1-ab51-a98c4936521d",
   "metadata": {
    "execution": {
     "iopub.execute_input": "2022-08-22T13:32:52.815321Z",
     "iopub.status.busy": "2022-08-22T13:32:52.815036Z",
     "iopub.status.idle": "2022-08-22T13:32:55.167232Z",
     "shell.execute_reply": "2022-08-22T13:32:55.165911Z",
     "shell.execute_reply.started": "2022-08-22T13:32:52.815276Z"
    },
    "tags": []
   },
   "outputs": [
    {
     "data": {
      "application/vnd.jupyter.widget-view+json": {
       "model_id": "f0a1b79b32d44906b77157973b99d370",
       "version_major": 2,
       "version_minor": 0
      },
      "text/plain": [
       "VBox()"
      ]
     },
     "metadata": {},
     "output_type": "display_data"
    },
    {
     "data": {
      "application/vnd.jupyter.widget-view+json": {
       "model_id": "",
       "version_major": 2,
       "version_minor": 0
      },
      "text/plain": [
       "FloatProgress(value=0.0, bar_style='info', description='Progress:', layout=Layout(height='25px', width='50%'),…"
      ]
     },
     "metadata": {},
     "output_type": "display_data"
    },
    {
     "name": "stdout",
     "output_type": "stream",
     "text": [
      "root\n",
      " |-- song_id: string (nullable = true)\n",
      " |-- title: string (nullable = true)\n",
      " |-- duration: double (nullable = true)\n",
      " |-- year: integer (nullable = true)\n",
      " |-- artist_id: string (nullable = true)\n",
      "\n",
      "+------------------+--------------------+---------+----+------------------+\n",
      "|           song_id|               title| duration|year|         artist_id|\n",
      "+------------------+--------------------+---------+----+------------------+\n",
      "|SOVVCEK12A6D4F6373|Everything You Al...|165.98159|   0|ARRL7WS1187FB576F1|\n",
      "|SOVUIHM12A8C13E3AB|Symphony No. 3 in...|458.08281|   0|AR820DX11C8A4157C3|\n",
      "|SOCHPTV12A6BD53113|Die Kunst der Fug...|172.38159|   0|ARN8NCB1187FB49652|\n",
      "|SOMZGJO12A8C13676E|Stomp Remix (feat...|206.96771|   0|ARRFBPZ1187B9B8263|\n",
      "|SOMXTYR12A6D4FA639|Creating Somethin...|382.04036|   0|ARQ5W4H1187B99E4A4|\n",
      "+------------------+--------------------+---------+----+------------------+\n",
      "only showing top 5 rows"
     ]
    }
   ],
   "source": [
    "songs.printSchema()\n",
    "songs.show(5)"
   ]
  },
  {
   "cell_type": "code",
   "execution_count": 17,
   "id": "88ae0d3a-1988-4b7f-b839-fa61fd06c942",
   "metadata": {
    "execution": {
     "iopub.execute_input": "2022-08-22T13:32:55.170164Z",
     "iopub.status.busy": "2022-08-22T13:32:55.169371Z",
     "iopub.status.idle": "2022-08-22T13:33:24.972472Z",
     "shell.execute_reply": "2022-08-22T13:33:24.971172Z",
     "shell.execute_reply.started": "2022-08-22T13:32:55.170102Z"
    },
    "tags": []
   },
   "outputs": [
    {
     "data": {
      "application/vnd.jupyter.widget-view+json": {
       "model_id": "c15d351f824f44c9a65b839646b20433",
       "version_major": 2,
       "version_minor": 0
      },
      "text/plain": [
       "VBox()"
      ]
     },
     "metadata": {},
     "output_type": "display_data"
    },
    {
     "data": {
      "application/vnd.jupyter.widget-view+json": {
       "model_id": "",
       "version_major": 2,
       "version_minor": 0
      },
      "text/plain": [
       "FloatProgress(value=0.0, bar_style='info', description='Progress:', layout=Layout(height='25px', width='50%'),…"
      ]
     },
     "metadata": {},
     "output_type": "display_data"
    },
    {
     "name": "stdout",
     "output_type": "stream",
     "text": [
      "14896"
     ]
    }
   ],
   "source": [
    "songs.count()"
   ]
  },
  {
   "cell_type": "markdown",
   "id": "661528fc-3e8a-4ce6-963c-fae5d02608a6",
   "metadata": {},
   "source": [
    "### Test artists table"
   ]
  },
  {
   "cell_type": "code",
   "execution_count": 18,
   "id": "947599b7-9b02-4ab1-8826-42c693fa1e4c",
   "metadata": {
    "execution": {
     "iopub.execute_input": "2022-08-22T13:33:24.974061Z",
     "iopub.status.busy": "2022-08-22T13:33:24.973793Z",
     "iopub.status.idle": "2022-08-22T13:33:25.809575Z",
     "shell.execute_reply": "2022-08-22T13:33:25.808527Z",
     "shell.execute_reply.started": "2022-08-22T13:33:24.974026Z"
    },
    "tags": []
   },
   "outputs": [
    {
     "data": {
      "application/vnd.jupyter.widget-view+json": {
       "model_id": "dd363135d3c446238e965cd013a7e39c",
       "version_major": 2,
       "version_minor": 0
      },
      "text/plain": [
       "VBox()"
      ]
     },
     "metadata": {},
     "output_type": "display_data"
    },
    {
     "data": {
      "application/vnd.jupyter.widget-view+json": {
       "model_id": "",
       "version_major": 2,
       "version_minor": 0
      },
      "text/plain": [
       "FloatProgress(value=0.0, bar_style='info', description='Progress:', layout=Layout(height='25px', width='50%'),…"
      ]
     },
     "metadata": {},
     "output_type": "display_data"
    }
   ],
   "source": [
    "artists = spark.read.parquet(output_data+\"artists/artists_table.parquet\")"
   ]
  },
  {
   "cell_type": "code",
   "execution_count": 19,
   "id": "74ce8a0a-0f47-4ade-adbd-e69321b99b14",
   "metadata": {
    "execution": {
     "iopub.execute_input": "2022-08-22T13:33:25.811250Z",
     "iopub.status.busy": "2022-08-22T13:33:25.810973Z",
     "iopub.status.idle": "2022-08-22T13:33:26.620579Z",
     "shell.execute_reply": "2022-08-22T13:33:26.619457Z",
     "shell.execute_reply.started": "2022-08-22T13:33:25.811214Z"
    },
    "tags": []
   },
   "outputs": [
    {
     "data": {
      "application/vnd.jupyter.widget-view+json": {
       "model_id": "48e16791e4484136bc20af83783555b4",
       "version_major": 2,
       "version_minor": 0
      },
      "text/plain": [
       "VBox()"
      ]
     },
     "metadata": {},
     "output_type": "display_data"
    },
    {
     "data": {
      "application/vnd.jupyter.widget-view+json": {
       "model_id": "",
       "version_major": 2,
       "version_minor": 0
      },
      "text/plain": [
       "FloatProgress(value=0.0, bar_style='info', description='Progress:', layout=Layout(height='25px', width='50%'),…"
      ]
     },
     "metadata": {},
     "output_type": "display_data"
    },
    {
     "name": "stdout",
     "output_type": "stream",
     "text": [
      "root\n",
      " |-- artist_id: string (nullable = true)\n",
      " |-- name: string (nullable = true)\n",
      " |-- location: string (nullable = true)\n",
      " |-- latitude: double (nullable = true)\n",
      " |-- longitude: double (nullable = true)\n",
      "\n",
      "+------------------+--------------------+--------+--------+---------+\n",
      "|         artist_id|                name|location|latitude|longitude|\n",
      "+------------------+--------------------+--------+--------+---------+\n",
      "|AR04BF811A348F050D|  Teenagers In Tokyo|        |    null|     null|\n",
      "|AR04KY61187FB44E3A|         Fidel Nadal|        |    null|     null|\n",
      "|AR04NH21187FB4485B|      Demise Of Eros|        |    null|     null|\n",
      "|AR05KAM1187B9B6F55|           Cal Smith|Gans, OK|35.38716|-94.69444|\n",
      "|AR05TTS11C8A422FEC|Westbam And The L...|        |    null|     null|\n",
      "+------------------+--------------------+--------+--------+---------+\n",
      "only showing top 5 rows"
     ]
    }
   ],
   "source": [
    "artists.printSchema()\n",
    "artists.show(5)"
   ]
  },
  {
   "cell_type": "code",
   "execution_count": 20,
   "id": "b6d85a32-d674-4567-887b-17151e17ebd7",
   "metadata": {
    "execution": {
     "iopub.execute_input": "2022-08-22T13:33:26.622139Z",
     "iopub.status.busy": "2022-08-22T13:33:26.621885Z",
     "iopub.status.idle": "2022-08-22T13:33:27.528136Z",
     "shell.execute_reply": "2022-08-22T13:33:27.526559Z",
     "shell.execute_reply.started": "2022-08-22T13:33:26.622102Z"
    },
    "tags": []
   },
   "outputs": [
    {
     "data": {
      "application/vnd.jupyter.widget-view+json": {
       "model_id": "e2fb2addb9964d5c87ae2e7174ea366f",
       "version_major": 2,
       "version_minor": 0
      },
      "text/plain": [
       "VBox()"
      ]
     },
     "metadata": {},
     "output_type": "display_data"
    },
    {
     "data": {
      "application/vnd.jupyter.widget-view+json": {
       "model_id": "",
       "version_major": 2,
       "version_minor": 0
      },
      "text/plain": [
       "FloatProgress(value=0.0, bar_style='info', description='Progress:', layout=Layout(height='25px', width='50%'),…"
      ]
     },
     "metadata": {},
     "output_type": "display_data"
    },
    {
     "name": "stdout",
     "output_type": "stream",
     "text": [
      "9553"
     ]
    }
   ],
   "source": [
    "artists.count()"
   ]
  },
  {
   "cell_type": "markdown",
   "id": "79bb3f7c-26b6-4087-bd92-309d923fe34a",
   "metadata": {},
   "source": [
    "## Check analysis queries"
   ]
  },
  {
   "cell_type": "code",
   "execution_count": 31,
   "id": "6d836e35-8135-4ed3-bb20-3ba08be46e8a",
   "metadata": {
    "execution": {
     "iopub.execute_input": "2022-08-22T13:36:36.540646Z",
     "iopub.status.busy": "2022-08-22T13:36:36.540266Z",
     "iopub.status.idle": "2022-08-22T13:36:36.843946Z",
     "shell.execute_reply": "2022-08-22T13:36:36.842927Z",
     "shell.execute_reply.started": "2022-08-22T13:36:36.540585Z"
    }
   },
   "outputs": [
    {
     "data": {
      "application/vnd.jupyter.widget-view+json": {
       "model_id": "1e868da78fea4d138475170de4b592a7",
       "version_major": 2,
       "version_minor": 0
      },
      "text/plain": [
       "VBox()"
      ]
     },
     "metadata": {},
     "output_type": "display_data"
    },
    {
     "data": {
      "application/vnd.jupyter.widget-view+json": {
       "model_id": "",
       "version_major": 2,
       "version_minor": 0
      },
      "text/plain": [
       "FloatProgress(value=0.0, bar_style='info', description='Progress:', layout=Layout(height='25px', width='50%'),…"
      ]
     },
     "metadata": {},
     "output_type": "display_data"
    }
   ],
   "source": [
    "from pyspark.sql.functions import desc"
   ]
  },
  {
   "cell_type": "markdown",
   "id": "0d10fcad-6ff1-4c36-9b53-728c0c92d8e2",
   "metadata": {},
   "source": [
    "### Query 1: Find all the users that has paid account and listen more than 10 songs, who are they"
   ]
  },
  {
   "cell_type": "code",
   "execution_count": 37,
   "id": "268e663b-5340-4e44-86bb-de44408a1aeb",
   "metadata": {
    "execution": {
     "iopub.execute_input": "2022-08-22T13:38:24.045843Z",
     "iopub.status.busy": "2022-08-22T13:38:24.045469Z",
     "iopub.status.idle": "2022-08-22T13:38:24.346279Z",
     "shell.execute_reply": "2022-08-22T13:38:24.345113Z",
     "shell.execute_reply.started": "2022-08-22T13:38:24.045785Z"
    },
    "tags": []
   },
   "outputs": [
    {
     "data": {
      "application/vnd.jupyter.widget-view+json": {
       "model_id": "87c8d5a66dd64adeb228e5880a3b15b9",
       "version_major": 2,
       "version_minor": 0
      },
      "text/plain": [
       "VBox()"
      ]
     },
     "metadata": {},
     "output_type": "display_data"
    },
    {
     "data": {
      "application/vnd.jupyter.widget-view+json": {
       "model_id": "",
       "version_major": 2,
       "version_minor": 0
      },
      "text/plain": [
       "FloatProgress(value=0.0, bar_style='info', description='Progress:', layout=Layout(height='25px', width='50%'),…"
      ]
     },
     "metadata": {},
     "output_type": "display_data"
    }
   ],
   "source": [
    "df_listofusers = songplays.filter(songplays.level == 'paid') \\\n",
    "                          .select(\"user_id\") \\\n",
    "                          .groupBy(\"user_id\") \\\n",
    "                          .agg({'user_id':'count'}) \\\n",
    "                          .withColumnRenamed('count(user_id)', 'countforusers')"
   ]
  },
  {
   "cell_type": "code",
   "execution_count": 38,
   "id": "1fc6b82e-8bd1-4e5c-ad1c-3dfd54ca0fce",
   "metadata": {
    "execution": {
     "iopub.execute_input": "2022-08-22T13:38:24.444653Z",
     "iopub.status.busy": "2022-08-22T13:38:24.444318Z",
     "iopub.status.idle": "2022-08-22T13:38:26.796525Z",
     "shell.execute_reply": "2022-08-22T13:38:26.794771Z",
     "shell.execute_reply.started": "2022-08-22T13:38:24.444610Z"
    },
    "tags": []
   },
   "outputs": [
    {
     "data": {
      "application/vnd.jupyter.widget-view+json": {
       "model_id": "1bb3e0eb657145e7af66f76c6b322018",
       "version_major": 2,
       "version_minor": 0
      },
      "text/plain": [
       "VBox()"
      ]
     },
     "metadata": {},
     "output_type": "display_data"
    },
    {
     "data": {
      "application/vnd.jupyter.widget-view+json": {
       "model_id": "",
       "version_major": 2,
       "version_minor": 0
      },
      "text/plain": [
       "FloatProgress(value=0.0, bar_style='info', description='Progress:', layout=Layout(height='25px', width='50%'),…"
      ]
     },
     "metadata": {},
     "output_type": "display_data"
    },
    {
     "name": "stdout",
     "output_type": "stream",
     "text": [
      "+----------+---------+\n",
      "|first_name|last_name|\n",
      "+----------+---------+\n",
      "|     Avery|  Watkins|\n",
      "|    Jaleah|    Hayes|\n",
      "|    Harper|  Barrett|\n",
      "|     Amiya| Davidson|\n",
      "|   Kinsley|    Young|\n",
      "|    Hayden|    Brock|\n",
      "|     Avery| Martinez|\n",
      "|     Emily|   Benson|\n",
      "|  Mohammad|Rodriguez|\n",
      "|     Rylan|   George|\n",
      "|Jacqueline|    Lynch|\n",
      "|    Jayden|   Graves|\n",
      "|   Matthew|    Jones|\n",
      "|     Layla|  Griffin|\n",
      "|     Chloe|   Cuevas|\n",
      "|     Tegan|   Levine|\n",
      "|    Aleena|    Kirby|\n",
      "|      Kate|  Harrell|\n",
      "|      Sara|  Johnson|\n",
      "|     Jacob|    Klein|\n",
      "+----------+---------+\n",
      "only showing top 20 rows"
     ]
    }
   ],
   "source": [
    "df_listofusers.sort(desc('countforusers')) \\\n",
    "              .filter(df_listofusers.countforusers > 10) \\\n",
    "              .join(users, users.user_id == df_listofusers.user_id) \\\n",
    "              .select(users.first_name,users.last_name) \\\n",
    "              .show()"
   ]
  },
  {
   "cell_type": "markdown",
   "id": "d8ca4782-287d-4ed9-8d12-0a31bc24e967",
   "metadata": {},
   "source": [
    "### Query 2:  Most popular artist among paid users "
   ]
  },
  {
   "cell_type": "code",
   "execution_count": 39,
   "id": "f29763a0-cbc8-4025-ad83-1b2233bd3d9d",
   "metadata": {
    "execution": {
     "iopub.execute_input": "2022-08-22T13:38:26.800239Z",
     "iopub.status.busy": "2022-08-22T13:38:26.798858Z",
     "iopub.status.idle": "2022-08-22T13:38:28.334843Z",
     "shell.execute_reply": "2022-08-22T13:38:28.321139Z",
     "shell.execute_reply.started": "2022-08-22T13:38:26.800176Z"
    },
    "tags": []
   },
   "outputs": [
    {
     "data": {
      "application/vnd.jupyter.widget-view+json": {
       "model_id": "a4659a5ac7ce4a10821c23aa2e9b5b92",
       "version_major": 2,
       "version_minor": 0
      },
      "text/plain": [
       "VBox()"
      ]
     },
     "metadata": {},
     "output_type": "display_data"
    },
    {
     "data": {
      "application/vnd.jupyter.widget-view+json": {
       "model_id": "",
       "version_major": 2,
       "version_minor": 0
      },
      "text/plain": [
       "FloatProgress(value=0.0, bar_style='info', description='Progress:', layout=Layout(height='25px', width='50%'),…"
      ]
     },
     "metadata": {},
     "output_type": "display_data"
    }
   ],
   "source": [
    "df_artist = songplays.filter(songplays.level == 'paid') \\\n",
    "                          .select(\"artist_id\") \\\n",
    "                          .groupBy(\"artist_id\") \\\n",
    "                          .agg({'artist_id':'count'}) \\\n",
    "                          .withColumnRenamed('count(artist_id)', 'count_artist')"
   ]
  },
  {
   "cell_type": "code",
   "execution_count": 40,
   "id": "d27f0254-576f-4f22-a55b-fdbf3161dbcf",
   "metadata": {
    "execution": {
     "iopub.execute_input": "2022-08-22T13:38:28.340863Z",
     "iopub.status.busy": "2022-08-22T13:38:28.340442Z",
     "iopub.status.idle": "2022-08-22T13:38:30.694560Z",
     "shell.execute_reply": "2022-08-22T13:38:30.693292Z",
     "shell.execute_reply.started": "2022-08-22T13:38:28.340802Z"
    },
    "tags": []
   },
   "outputs": [
    {
     "data": {
      "application/vnd.jupyter.widget-view+json": {
       "model_id": "314a19a4de454a19ba9423f7637241be",
       "version_major": 2,
       "version_minor": 0
      },
      "text/plain": [
       "VBox()"
      ]
     },
     "metadata": {},
     "output_type": "display_data"
    },
    {
     "data": {
      "application/vnd.jupyter.widget-view+json": {
       "model_id": "",
       "version_major": 2,
       "version_minor": 0
      },
      "text/plain": [
       "FloatProgress(value=0.0, bar_style='info', description='Progress:', layout=Layout(height='25px', width='50%'),…"
      ]
     },
     "metadata": {},
     "output_type": "display_data"
    },
    {
     "name": "stdout",
     "output_type": "stream",
     "text": [
      "+--------+\n",
      "|    name|\n",
      "+--------+\n",
      "|No Mercy|\n",
      "+--------+\n",
      "only showing top 1 row"
     ]
    }
   ],
   "source": [
    "df_artist.sort(desc('count_artist')) \\\n",
    "         .join(artists, artists.artist_id==df_artist.artist_id) \\\n",
    "         .select(artists.name) \\\n",
    "         .show(1)"
   ]
  },
  {
   "cell_type": "markdown",
   "id": "b4d783ba-ea51-42d0-8478-fb75f2864722",
   "metadata": {},
   "source": [
    "### Query 3: How much did User 2 listen songs"
   ]
  },
  {
   "cell_type": "code",
   "execution_count": 43,
   "id": "22168d9f-efdd-4bcc-b231-d45d8710934a",
   "metadata": {
    "execution": {
     "iopub.execute_input": "2022-08-22T13:39:08.425576Z",
     "iopub.status.busy": "2022-08-22T13:39:08.425187Z",
     "iopub.status.idle": "2022-08-22T13:39:09.249765Z",
     "shell.execute_reply": "2022-08-22T13:39:09.248456Z",
     "shell.execute_reply.started": "2022-08-22T13:39:08.425524Z"
    },
    "tags": []
   },
   "outputs": [
    {
     "data": {
      "application/vnd.jupyter.widget-view+json": {
       "model_id": "2a00619d434e459aab5f41ede7af1b26",
       "version_major": 2,
       "version_minor": 0
      },
      "text/plain": [
       "VBox()"
      ]
     },
     "metadata": {},
     "output_type": "display_data"
    },
    {
     "data": {
      "application/vnd.jupyter.widget-view+json": {
       "model_id": "",
       "version_major": 2,
       "version_minor": 0
      },
      "text/plain": [
       "FloatProgress(value=0.0, bar_style='info', description='Progress:', layout=Layout(height='25px', width='50%'),…"
      ]
     },
     "metadata": {},
     "output_type": "display_data"
    },
    {
     "name": "stdout",
     "output_type": "stream",
     "text": [
      "+-------+---------------+\n",
      "|user_id|count_listening|\n",
      "+-------+---------------+\n",
      "|      2|             10|\n",
      "+-------+---------------+"
     ]
    }
   ],
   "source": [
    "songplays.filter(songplays.user_id == 2) \\\n",
    "         .select(\"user_id\") \\\n",
    "         .groupBy(\"user_id\") \\\n",
    "         .agg({'user_id':'count'}) \\\n",
    "         .withColumnRenamed('count(user_id)', 'count_listening') \\\n",
    "         .show()"
   ]
  },
  {
   "cell_type": "code",
   "execution_count": null,
   "id": "b9636d05-80bb-47db-8fd2-36a32d45c100",
   "metadata": {},
   "outputs": [],
   "source": []
  }
 ],
 "metadata": {
  "kernelspec": {
   "display_name": "PySpark",
   "language": "python",
   "name": "pysparkkernel"
  },
  "language_info": {
   "codemirror_mode": {
    "name": "python",
    "version": 3
   },
   "file_extension": ".py",
   "mimetype": "text/x-python",
   "name": "pyspark",
   "pygments_lexer": "python3"
  }
 },
 "nbformat": 4,
 "nbformat_minor": 5
}
